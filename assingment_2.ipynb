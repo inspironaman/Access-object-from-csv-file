{
 "cells": [
  {
   "cell_type": "code",
   "execution_count": 15,
   "metadata": {},
   "outputs": [
    {
     "name": "stdout",
     "output_type": "stream",
     "text": [
      "enter the path of your csv fie:BankChurners.csv\n",
      "enter key words use (CLIENTNUM,Customer_Age,Education_Level,Income_Category,Avg_Open_To_Buy,Credit_Limit):CLIENTNUM\n",
      "enter the index value of the client:567\n",
      "789115833\n"
     ]
    }
   ],
   "source": [
    "#importing necessary libraries for the assignment\n",
    "\n",
    "import pandas as pd\n",
    "import json\n",
    "\n",
    "#fuction for calling file and the keyvalues\n",
    "\n",
    "def client_details(csv_path,keyword,index):\n",
    "    \n",
    "    \n",
    "    try:\n",
    "        \n",
    "        bank_churners_df=pd.read_csv(csv_path)\n",
    "        bank_churners_json_string=bank_churners_df.to_json()\n",
    "        client_obj=json.loads(bank_churners_json_string)\n",
    "        \n",
    "    except Exception as error:\n",
    "        \n",
    "        print(\"error occured while importing data from csv path\")\n",
    "        \n",
    "    else:\n",
    "        \n",
    "        print(client_obj[keyword][index])\n",
    "\n",
    "#all the inputs for the fuction defiened above\n",
    "\n",
    "csv_path=input(\"enter the path of your csv fie:\")\n",
    "\n",
    "keyword=input(\"enter key words use (CLIENTNUM,Customer_Age,Education_Level,Income_Category,Avg_Open_To_Buy,Credit_Limit):\")\n",
    "\n",
    "index=input(\"enter the index value of the client:\")\n",
    "\n",
    "#calling fuction to execute the output\n",
    "\n",
    "client_details(csv_path,keyword,index)\n"
   ]
  }
 ],
 "metadata": {
  "kernelspec": {
   "display_name": "Python 3",
   "language": "python",
   "name": "python3"
  },
  "language_info": {
   "codemirror_mode": {
    "name": "ipython",
    "version": 3
   },
   "file_extension": ".py",
   "mimetype": "text/x-python",
   "name": "python",
   "nbconvert_exporter": "python",
   "pygments_lexer": "ipython3",
   "version": "3.8.5"
  }
 },
 "nbformat": 4,
 "nbformat_minor": 4
}
